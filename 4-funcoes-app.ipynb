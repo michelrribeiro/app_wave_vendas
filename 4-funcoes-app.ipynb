{
 "cells": [
  {
   "cell_type": "markdown",
   "id": "babc2463",
   "metadata": {},
   "source": [
    "## Análise de dados de vendas para segmentação de clientes, recomendação de produtos e previsão de demanda.\n",
    "\n",
    "Dados disponíveis em: https://www.kaggle.com/datasets/rohitsahoo/sales-forecasting"
   ]
  },
  {
   "cell_type": "markdown",
   "id": "3fc07e4f",
   "metadata": {},
   "source": [
    "### 4) Funções para criar a aplicação"
   ]
  },
  {
   "cell_type": "markdown",
   "id": "0a20bbd1",
   "metadata": {},
   "source": [
    "Importando as bibliotecas:"
   ]
  },
  {
   "cell_type": "code",
   "execution_count": 1,
   "id": "2963a3b5",
   "metadata": {},
   "outputs": [],
   "source": [
    "import pandas as pd\n",
    "import numpy as np\n",
    "\n",
    "import plotly.graph_objects as go\n",
    "from plotly import io as pio\n",
    "\n",
    "from statsmodels.tsa.statespace.sarimax import SARIMAX"
   ]
  },
  {
   "cell_type": "markdown",
   "id": "b6366128",
   "metadata": {},
   "source": [
    "#### Função para retorno dos gráficos de análise:"
   ]
  },
  {
   "cell_type": "code",
   "execution_count": 2,
   "id": "3a013697",
   "metadata": {},
   "outputs": [],
   "source": [
    "# Carregando o dataframe com todas vendas:\n",
    "df = pd.read_csv('./../data/vendas.csv', index_col=0, \n",
    "                 parse_dates=['Order Date'], dayfirst=True).sort_values('Order Date', ascending=True)"
   ]
  },
  {
   "cell_type": "code",
   "execution_count": 3,
   "id": "8aed6dad",
   "metadata": {},
   "outputs": [],
   "source": [
    "# Criando arquivo com ticket médio:\n",
    "df_ticket = pd.DataFrame({'segmento': df.Segment.unique(), \n",
    "                          'total_vendas': [np.round(df[df.Segment==n]['Sales'].sum(), 2) for n in df.Segment.unique()], \n",
    "                          'num_ordens': [len(df[df.Segment==n]['Order ID'].unique()) for n in df.Segment.unique()]})\n",
    "\n",
    "df_ticket['ticket_medio'] = np.round(df_ticket.total_vendas/df_ticket.num_ordens, 2)\n",
    "\n",
    "df_ticket.to_csv('./../data/df_ticket.csv')"
   ]
  },
  {
   "cell_type": "code",
   "execution_count": 4,
   "id": "e17df3e3",
   "metadata": {},
   "outputs": [],
   "source": [
    "# Gráfico com total de vendas por segmento:\n",
    "def total_seg(df_ticket):\n",
    "    fig = go.Figure()\n",
    "    fig.add_trace(go.Bar(x=df_ticket.segmento.unique(), y=df_ticket['total_vendas'], \n",
    "                         text=[(str(round(n/10e2))+'K') for n in df_ticket['total_vendas']], \n",
    "                         textposition='auto'))\n",
    "\n",
    "    fig.update_layout(title_text='Total de vendas por segmento', \n",
    "                      title_x=0.5, title_font_size=10, \n",
    "                      width=400, height=150, margin=dict(l=0, r=0, b=0, t=15))\n",
    "    \n",
    "    fig.update_yaxes(visible=False)\n",
    "    \n",
    "    return (pio.to_html(fig, include_plotlyjs='cdn', validate=False))"
   ]
  },
  {
   "cell_type": "code",
   "execution_count": 5,
   "id": "73bc4704",
   "metadata": {},
   "outputs": [],
   "source": [
    "# Gráfico com ticket médio (total de vendas/núm de ordens de compra) para cada segmento:\n",
    "def ticket_seg(df_ticket):\n",
    "    fig = go.Figure()\n",
    "    fig.add_trace(go.Bar(x=df_ticket.segmento, y=df_ticket['ticket_medio'], \n",
    "                         text=df_ticket['ticket_medio'], \n",
    "                         textposition='auto'))\n",
    "\n",
    "    fig.update_layout(title_text='Ticket médio por segmento', \n",
    "                      title_x=0.5, title_font_size=10, \n",
    "                      width=400, height=150, margin=dict(l=0, r=0, b=0, t=15))\n",
    "    \n",
    "    fig.update_yaxes(visible=False)\n",
    "    \n",
    "    return (pio.to_html(fig, include_plotlyjs='cdn', validate=False))"
   ]
  },
  {
   "cell_type": "code",
   "execution_count": 6,
   "id": "2f76f7c3",
   "metadata": {},
   "outputs": [],
   "source": [
    "# Criando arquivo com vendas por categoria:\n",
    "df_cats = df.copy()\n",
    "df_cats['year'] = df_cats['Order Date'].dt.year\n",
    "df_cats = df_cats.groupby(['Segment', 'Category', 'year'], as_index=False).agg({'Sales': 'sum'})\n",
    "df_cats.to_csv('./../data/df_cats.csv')"
   ]
  },
  {
   "cell_type": "code",
   "execution_count": 7,
   "id": "a899277c",
   "metadata": {},
   "outputs": [],
   "source": [
    "# Gráfico com total de vendas para cada categoria a depender do segmento:\n",
    "def total_cat(seg, df_cats):\n",
    "    df_cats = df_cats[df_cats.Segment==seg]\n",
    "    \n",
    "    fig = go.Figure()\n",
    "    fig.add_trace(go.Bar(x=df_cats.groupby('Category', as_index=False).agg({'Sales': 'sum'})['Category'], \n",
    "                         y=df_cats.groupby('Category', as_index=False).agg({'Sales': 'sum'})['Sales'], \n",
    "                         text=[(str(round(n/10e2))+'K') for n in df_cats.groupby(\n",
    "                             'Category', as_index=False).agg({'Sales': 'sum'})['Sales']], \n",
    "                         textposition='auto'))\n",
    "\n",
    "    fig.update_layout(title_text=f'Total de vendas por categoria no segmento {seg}', \n",
    "                      title_x=0.5, title_font_size=10, \n",
    "                      width=400, height=150, margin=dict(l=0, r=0, b=0, t=15))\n",
    "    \n",
    "    fig.update_yaxes(visible=False)\n",
    "  \n",
    "    return (pio.to_html(fig, include_plotlyjs='cdn', validate=False))"
   ]
  },
  {
   "cell_type": "code",
   "execution_count": 8,
   "id": "1df43d5f",
   "metadata": {},
   "outputs": [],
   "source": [
    "# Gráfico com vendas ano a ano para cada categoria a depender do segmento:\n",
    "def total_cat_ano(seg, df_cats):\n",
    "    df_cats = df_cats[df_cats.Segment==seg]\n",
    "    cats = df_cats.Category.unique()\n",
    "\n",
    "    fig = go.Figure()\n",
    "    for n in cats:\n",
    "        fig.add_trace(go.Scatter(x=[str(n) for n in df_cat.year.unique()], \n",
    "                                 y=df_cat[df_cat.Category==n]['Sales'],\n",
    "                                 name = n))\n",
    "\n",
    "    fig.update_layout(title_text=f'Total de vendas por categoria no segmento Consumer', \n",
    "                      title_x=0.5, title_font_size=10, \n",
    "                      legend={'orientation':'h', \n",
    "                              'y':1, 'yanchor': 'top', \n",
    "                              'x':0, 'xanchor': 'left', \n",
    "                              'font':{'size':7}, 'itemclick':'toggle'}, \n",
    "                      width=900, height=150, margin=dict(l=0, r=0, b=0, t=15))\n",
    "    \n",
    "    fig.update_yaxes(visible=False)\n",
    "\n",
    "    return (pio.to_html(fig, include_plotlyjs='cdn', validate=False))"
   ]
  },
  {
   "cell_type": "markdown",
   "id": "6eabf86a",
   "metadata": {},
   "source": [
    "#### Função para retorno dos produtos recomendados:"
   ]
  },
  {
   "cell_type": "code",
   "execution_count": 9,
   "id": "71f3db35",
   "metadata": {},
   "outputs": [],
   "source": [
    "def indicados(segmento, subcategoria, produto):\n",
    "    # Carregando os dataframes:\n",
    "    associacoes_nome = segmento.lower().replace(' ', '_') + '_associacoes.csv'\n",
    "    prop_vendas_nome = segmento.lower().replace(' ', '_') + '_prop_vendas.csv'\n",
    "    \n",
    "    associacoes = pd.read_csv(f'./../data/{associacoes_nome}', index_col=0)\n",
    "    prop_vendas = pd.read_csv(f'./../data/{prop_vendas_nome}', index_col=0)\n",
    "    \n",
    "    # Buscando os mais vendidos e os recomendados:\n",
    "    vendidos = prop_vendas[prop_vendas['Sub-Category'] == subcategoria][\n",
    "        prop_vendas['Product Name'] != produto]['Product Name'].to_list()\n",
    "\n",
    "    recomendados = associacoes[associacoes.antecedents == produto]['consequents'].to_list()\n",
    "    \n",
    "    # Criando o dataframe e evitando erros para produtos sem recomendações:\n",
    "    diff = len(vendidos) - len(recomendados)\n",
    "    if diff > 0:\n",
    "        [recomendados.append('Sem mais recomendações') for n in range(diff)]\n",
    "    elif diff < 0:\n",
    "        [vendidos.append('Sem mais recomendações') for n in range(-diff)]\n",
    "    else:\n",
    "        pass\n",
    "    \n",
    "    df = pd.DataFrame({'Quem comprou esse produto também comprou': recomendados, \n",
    "                   'Você também pode gostar de': vendidos})\n",
    "    \n",
    "    return df.head(5)"
   ]
  },
  {
   "cell_type": "markdown",
   "id": "5aae91e6",
   "metadata": {},
   "source": [
    "#### Função para previsão de vendas para mais 12 meses com base na sub-categoria:"
   ]
  },
  {
   "cell_type": "code",
   "execution_count": 10,
   "id": "1c70c8a7",
   "metadata": {},
   "outputs": [],
   "source": [
    "# Carregar o dataframe de prev_vendas antes de utilizar a função:\n",
    "df_prev = pd.read_csv('./../data/df_prev.csv', parse_dates=['Order Date'], index_col=0)\n",
    "\n",
    "# Função para criar o gráfico com previsões de vendas:\n",
    "def prev_vendas(df_prev, seg, subcategoria):\n",
    "    # Definindo o dataframe com as vendas:\n",
    "    df_prev = df_prev[(df_prev.Segment==seg) & (df_prev['Sub-Category']==subcategoria)]\n",
    "    \n",
    "    # Definindo range de datas:\n",
    "    idx = pd.date_range(df_prev.index[0], periods=60, freq='M')\n",
    "    idx = pd.to_datetime(idx.map(lambda x: x.strftime('%Y-%m-01')))\n",
    "    \n",
    "    # Preenchendo os meses sem vendas com zero:\n",
    "    for n in idx[:48]:\n",
    "        if n in df_prev.index:\n",
    "            pass\n",
    "        else:\n",
    "            df_prev = pd.concat([df_prev, pd.DataFrame({'Segment': df_prev.Segment.iloc[0], \n",
    "                                                        'Sub-Category': df_prev['Sub-Category'].iloc[0], \n",
    "                                                        'Sales': 0}, index=[n])])\n",
    "    df_prev.sort_index(inplace=True)\n",
    "    \n",
    "    # Criando o modelo e realizando as previsões:\n",
    "    model = SARIMAX(endog=df_prev['Sales'], order=(0,1,1), seasonal_order=(0,1,1,12), trend='c', \n",
    "                enforce_invertibility=False, enforce_stationarity=False)\n",
    "\n",
    "    sarimax = model.fit(method='nm')\n",
    "    \n",
    "    # Realizando as previsões e criando o dataframe:\n",
    "    preds = pd.DataFrame([n for n in np.round(sarimax.predict(start=1, end=60))], \n",
    "                         index=idx, columns=['Valores'])\n",
    "    \n",
    "    preds['Valores'].iloc[:48] = df_prev['Sales'].to_list()[:48]\n",
    "    \n",
    "    # Criando o gráfico:\n",
    "    fig = go.Figure()\n",
    "    \n",
    "    fig.add_trace(go.Scatter(x=preds.index[:48], y=preds['Valores'].iloc[:48],\n",
    "                                 name = 'Observados'))\n",
    "\n",
    "    fig.add_trace(go.Scatter(x=preds.index[47:], y=preds['Valores'].iloc[47:],\n",
    "                                 name = 'Previstos'))\n",
    "\n",
    "    fig.update_layout(title_text=f'Previsão de vendas para a subcategoria {subcategoria} no segmento {seg}', \n",
    "                      title_font_color='black', title_x=0.5, title_font_size=10, \n",
    "                      legend={'orientation':'h', \n",
    "                              'y':1, 'yanchor': 'top', \n",
    "                              'x':0, 'xanchor': 'left', \n",
    "                              'font':{'size':8, 'color':'black'}, 'itemclick':'toggle'}, \n",
    "                      margin=dict(l=0, r=0, b=0, t=15))\n",
    "    \n",
    "    fig.update_xaxes(tickfont_size=9, tickfont_color='black')\n",
    "    fig.update_yaxes(visible=False)\n",
    "    fig.show()\n",
    "    return (pio.to_html(fig, include_plotlyjs='cdn', validate=False))"
   ]
  },
  {
   "cell_type": "code",
   "execution_count": 11,
   "id": "cd4440a7",
   "metadata": {},
   "outputs": [],
   "source": [
    "def lista_subcat(seg):\n",
    "    prop_vendas_nome = seg.lower().replace(' ', '_') + '_prop_vendas.csv'\n",
    "    prop_vendas = pd.read_csv(f'./../data/{prop_vendas_nome}', index_col=0)\n",
    "    nomes = [n for n in prop_vendas['Sub-Category'].unique()]\n",
    "    return np.sort(nomes)\n",
    "\n",
    "def lista_produtos(seg, subcategoria):\n",
    "    prop_vendas_nome = seg.lower().replace(' ', '_') + '_prop_vendas.csv'\n",
    "    prop_vendas = pd.read_csv(f'./../data/{prop_vendas_nome}', index_col=0)\n",
    "    nomes = prop_vendas[prop_vendas['Sub-Category']==subcategoria]['Product Name'].to_list()\n",
    "    return np.sort(nomes)"
   ]
  },
  {
   "cell_type": "markdown",
   "id": "0e0eeb32",
   "metadata": {},
   "source": [
    "### Fim."
   ]
  }
 ],
 "metadata": {
  "kernelspec": {
   "display_name": "Python 3 (ipykernel)",
   "language": "python",
   "name": "python3"
  },
  "language_info": {
   "codemirror_mode": {
    "name": "ipython",
    "version": 3
   },
   "file_extension": ".py",
   "mimetype": "text/x-python",
   "name": "python",
   "nbconvert_exporter": "python",
   "pygments_lexer": "ipython3",
   "version": "3.9.7"
  }
 },
 "nbformat": 4,
 "nbformat_minor": 5
}
