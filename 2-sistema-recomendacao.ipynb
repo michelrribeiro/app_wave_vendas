{
 "cells": [
  {
   "cell_type": "markdown",
   "id": "8d5de310",
   "metadata": {},
   "source": [
    "## Análise de dados de vendas para segmentação de clientes, recomendação de produtos e previsão de demanda.\n",
    "\n",
    "Dados disponíveis em: https://www.kaggle.com/datasets/rohitsahoo/sales-forecasting"
   ]
  },
  {
   "cell_type": "markdown",
   "id": "269534cb",
   "metadata": {},
   "source": [
    "### 2) Sistema de recomendação"
   ]
  },
  {
   "cell_type": "markdown",
   "id": "1d452fb4",
   "metadata": {},
   "source": [
    "Importando as bibliotecas:"
   ]
  },
  {
   "cell_type": "code",
   "execution_count": 1,
   "id": "62d1d98d",
   "metadata": {},
   "outputs": [],
   "source": [
    "from time import time, strftime, gmtime\n",
    "global_start = time()\n",
    "\n",
    "import warnings\n",
    "warnings.filterwarnings('ignore')\n",
    "\n",
    "import pandas as pd\n",
    "import numpy as np\n",
    "from re import sub\n",
    "\n",
    "from mlxtend.preprocessing import TransactionEncoder\n",
    "from mlxtend.frequent_patterns import apriori, association_rules"
   ]
  },
  {
   "cell_type": "markdown",
   "id": "d3f5f75c",
   "metadata": {},
   "source": [
    "Importando os dados:"
   ]
  },
  {
   "cell_type": "code",
   "execution_count": 2,
   "id": "e34ace32",
   "metadata": {},
   "outputs": [
    {
     "data": {
      "text/html": [
       "<div>\n",
       "<style scoped>\n",
       "    .dataframe tbody tr th:only-of-type {\n",
       "        vertical-align: middle;\n",
       "    }\n",
       "\n",
       "    .dataframe tbody tr th {\n",
       "        vertical-align: top;\n",
       "    }\n",
       "\n",
       "    .dataframe thead th {\n",
       "        text-align: right;\n",
       "    }\n",
       "</style>\n",
       "<table border=\"1\" class=\"dataframe\">\n",
       "  <thead>\n",
       "    <tr style=\"text-align: right;\">\n",
       "      <th></th>\n",
       "      <th>Row ID</th>\n",
       "      <th>Order ID</th>\n",
       "      <th>Order Date</th>\n",
       "      <th>Ship Date</th>\n",
       "      <th>Ship Mode</th>\n",
       "      <th>Customer ID</th>\n",
       "      <th>Customer Name</th>\n",
       "      <th>Segment</th>\n",
       "      <th>Country</th>\n",
       "      <th>City</th>\n",
       "      <th>State</th>\n",
       "      <th>Postal Code</th>\n",
       "      <th>Region</th>\n",
       "      <th>Product ID</th>\n",
       "      <th>Category</th>\n",
       "      <th>Sub-Category</th>\n",
       "      <th>Product Name</th>\n",
       "      <th>Sales</th>\n",
       "    </tr>\n",
       "  </thead>\n",
       "  <tbody>\n",
       "    <tr>\n",
       "      <th>1651</th>\n",
       "      <td>1652</td>\n",
       "      <td>CA-2015-135699</td>\n",
       "      <td>29/08/2015</td>\n",
       "      <td>29/08/2015</td>\n",
       "      <td>Same Day</td>\n",
       "      <td>HH-15010</td>\n",
       "      <td>Hilary Holden</td>\n",
       "      <td>Corporate</td>\n",
       "      <td>United States</td>\n",
       "      <td>San Francisco</td>\n",
       "      <td>California</td>\n",
       "      <td>94110.0</td>\n",
       "      <td>West</td>\n",
       "      <td>OFF-PA-10003001</td>\n",
       "      <td>Office Supplies</td>\n",
       "      <td>Paper</td>\n",
       "      <td>Xerox 1986</td>\n",
       "      <td>13.36</td>\n",
       "    </tr>\n",
       "  </tbody>\n",
       "</table>\n",
       "</div>"
      ],
      "text/plain": [
       "      Row ID        Order ID  Order Date   Ship Date Ship Mode Customer ID  \\\n",
       "1651    1652  CA-2015-135699  29/08/2015  29/08/2015  Same Day    HH-15010   \n",
       "\n",
       "      Customer Name    Segment        Country           City       State  \\\n",
       "1651  Hilary Holden  Corporate  United States  San Francisco  California   \n",
       "\n",
       "      Postal Code Region       Product ID         Category Sub-Category  \\\n",
       "1651      94110.0   West  OFF-PA-10003001  Office Supplies        Paper   \n",
       "\n",
       "     Product Name  Sales  \n",
       "1651   Xerox 1986  13.36  "
      ]
     },
     "execution_count": 2,
     "metadata": {},
     "output_type": "execute_result"
    }
   ],
   "source": [
    "df = pd.read_csv('../data/train.csv')\n",
    "\n",
    "df.sample(1)"
   ]
  },
  {
   "cell_type": "markdown",
   "id": "ad3f582a",
   "metadata": {},
   "source": [
    "A análise de cesta de mercado consiste em avaliar um item comprado e, baseado nas compras de outros usuários, indicar quais itens podem também agradar.<br>\n",
    "É uma análise simples, porém efetiva quando não existem dados sobre o histórico de compras do usuário ou sobre as conexões entre os produtos.<br>\n",
    "O primeiro passo é transformar os dados para avaliar quais produtos foram comprados em cada ordem de compra:"
   ]
  },
  {
   "cell_type": "code",
   "execution_count": 3,
   "id": "89eb75de",
   "metadata": {},
   "outputs": [
    {
     "data": {
      "text/html": [
       "<div>\n",
       "<style scoped>\n",
       "    .dataframe tbody tr th:only-of-type {\n",
       "        vertical-align: middle;\n",
       "    }\n",
       "\n",
       "    .dataframe tbody tr th {\n",
       "        vertical-align: top;\n",
       "    }\n",
       "\n",
       "    .dataframe thead th {\n",
       "        text-align: right;\n",
       "    }\n",
       "</style>\n",
       "<table border=\"1\" class=\"dataframe\">\n",
       "  <thead>\n",
       "    <tr style=\"text-align: right;\">\n",
       "      <th></th>\n",
       "      <th>Order ID</th>\n",
       "      <th>Customer ID</th>\n",
       "    </tr>\n",
       "  </thead>\n",
       "  <tbody>\n",
       "  </tbody>\n",
       "</table>\n",
       "</div>"
      ],
      "text/plain": [
       "Empty DataFrame\n",
       "Columns: [Order ID, Customer ID]\n",
       "Index: []"
      ]
     },
     "execution_count": 3,
     "metadata": {},
     "output_type": "execute_result"
    }
   ],
   "source": [
    "# Verificando a relação 'Order ID' e 'Customer ID':\n",
    "order_df = df[['Order ID', 'Customer ID']].sort_values(['Order ID', 'Customer ID']).drop_duplicates()\n",
    "# Cada cliente pode ter várias ordens, mas uma ordem só pode ter um cliente, ou seja, 'Order ID' deve ser único.\n",
    "order_df[order_df['Order ID'].duplicated()]"
   ]
  },
  {
   "cell_type": "code",
   "execution_count": 4,
   "id": "bc7441e2",
   "metadata": {},
   "outputs": [],
   "source": [
    "df_un = df.copy()"
   ]
  },
  {
   "cell_type": "code",
   "execution_count": 5,
   "id": "bed6ff22",
   "metadata": {},
   "outputs": [
    {
     "data": {
      "text/html": [
       "<div>\n",
       "<style scoped>\n",
       "    .dataframe tbody tr th:only-of-type {\n",
       "        vertical-align: middle;\n",
       "    }\n",
       "\n",
       "    .dataframe tbody tr th {\n",
       "        vertical-align: top;\n",
       "    }\n",
       "\n",
       "    .dataframe thead th {\n",
       "        text-align: right;\n",
       "    }\n",
       "</style>\n",
       "<table border=\"1\" class=\"dataframe\">\n",
       "  <thead>\n",
       "    <tr style=\"text-align: right;\">\n",
       "      <th></th>\n",
       "      <th>NaN</th>\n",
       "      <th>Null</th>\n",
       "      <th>Unique</th>\n",
       "    </tr>\n",
       "  </thead>\n",
       "  <tbody>\n",
       "    <tr>\n",
       "      <th>Row ID</th>\n",
       "      <td>0</td>\n",
       "      <td>0</td>\n",
       "      <td>9800</td>\n",
       "    </tr>\n",
       "    <tr>\n",
       "      <th>Order ID</th>\n",
       "      <td>0</td>\n",
       "      <td>0</td>\n",
       "      <td>4922</td>\n",
       "    </tr>\n",
       "    <tr>\n",
       "      <th>Order Date</th>\n",
       "      <td>0</td>\n",
       "      <td>0</td>\n",
       "      <td>1230</td>\n",
       "    </tr>\n",
       "    <tr>\n",
       "      <th>Ship Date</th>\n",
       "      <td>0</td>\n",
       "      <td>0</td>\n",
       "      <td>1326</td>\n",
       "    </tr>\n",
       "    <tr>\n",
       "      <th>Ship Mode</th>\n",
       "      <td>0</td>\n",
       "      <td>0</td>\n",
       "      <td>4</td>\n",
       "    </tr>\n",
       "    <tr>\n",
       "      <th>Customer ID</th>\n",
       "      <td>0</td>\n",
       "      <td>0</td>\n",
       "      <td>793</td>\n",
       "    </tr>\n",
       "    <tr>\n",
       "      <th>Customer Name</th>\n",
       "      <td>0</td>\n",
       "      <td>0</td>\n",
       "      <td>793</td>\n",
       "    </tr>\n",
       "    <tr>\n",
       "      <th>Segment</th>\n",
       "      <td>0</td>\n",
       "      <td>0</td>\n",
       "      <td>3</td>\n",
       "    </tr>\n",
       "    <tr>\n",
       "      <th>Country</th>\n",
       "      <td>0</td>\n",
       "      <td>0</td>\n",
       "      <td>1</td>\n",
       "    </tr>\n",
       "    <tr>\n",
       "      <th>City</th>\n",
       "      <td>0</td>\n",
       "      <td>0</td>\n",
       "      <td>529</td>\n",
       "    </tr>\n",
       "    <tr>\n",
       "      <th>State</th>\n",
       "      <td>0</td>\n",
       "      <td>0</td>\n",
       "      <td>49</td>\n",
       "    </tr>\n",
       "    <tr>\n",
       "      <th>Postal Code</th>\n",
       "      <td>11</td>\n",
       "      <td>11</td>\n",
       "      <td>627</td>\n",
       "    </tr>\n",
       "    <tr>\n",
       "      <th>Region</th>\n",
       "      <td>0</td>\n",
       "      <td>0</td>\n",
       "      <td>4</td>\n",
       "    </tr>\n",
       "    <tr>\n",
       "      <th>Product ID</th>\n",
       "      <td>0</td>\n",
       "      <td>0</td>\n",
       "      <td>1861</td>\n",
       "    </tr>\n",
       "    <tr>\n",
       "      <th>Category</th>\n",
       "      <td>0</td>\n",
       "      <td>0</td>\n",
       "      <td>3</td>\n",
       "    </tr>\n",
       "    <tr>\n",
       "      <th>Sub-Category</th>\n",
       "      <td>0</td>\n",
       "      <td>0</td>\n",
       "      <td>17</td>\n",
       "    </tr>\n",
       "    <tr>\n",
       "      <th>Product Name</th>\n",
       "      <td>0</td>\n",
       "      <td>0</td>\n",
       "      <td>1849</td>\n",
       "    </tr>\n",
       "    <tr>\n",
       "      <th>Sales</th>\n",
       "      <td>0</td>\n",
       "      <td>0</td>\n",
       "      <td>5757</td>\n",
       "    </tr>\n",
       "  </tbody>\n",
       "</table>\n",
       "</div>"
      ],
      "text/plain": [
       "              NaN Null Unique\n",
       "Row ID          0    0   9800\n",
       "Order ID        0    0   4922\n",
       "Order Date      0    0   1230\n",
       "Ship Date       0    0   1326\n",
       "Ship Mode       0    0      4\n",
       "Customer ID     0    0    793\n",
       "Customer Name   0    0    793\n",
       "Segment         0    0      3\n",
       "Country         0    0      1\n",
       "City            0    0    529\n",
       "State           0    0     49\n",
       "Postal Code    11   11    627\n",
       "Region          0    0      4\n",
       "Product ID      0    0   1861\n",
       "Category        0    0      3\n",
       "Sub-Category    0    0     17\n",
       "Product Name    0    0   1849\n",
       "Sales           0    0   5757"
      ]
     },
     "execution_count": 5,
     "metadata": {},
     "output_type": "execute_result"
    }
   ],
   "source": [
    "#Verificando o perfil dos dados:\n",
    "describe = pd.DataFrame(columns=['NaN', 'Null', 'Unique'])\n",
    "for n in df_un.columns:\n",
    "    describe = pd.concat([describe, pd.DataFrame({'NaN': df_un[n].isna().sum(), \n",
    "                                                  'Null': df_un[n].isnull().sum(), \n",
    "                                                  'Unique': len(df_un[n].unique())}, index=[n])])\n",
    "describe"
   ]
  },
  {
   "cell_type": "markdown",
   "id": "fc10331d",
   "metadata": {},
   "source": [
    "O núm. de ID difere do núm de nomes, ou seja, existem produtos com dois IDs."
   ]
  },
  {
   "cell_type": "code",
   "execution_count": 6,
   "id": "1c55646a",
   "metadata": {},
   "outputs": [
    {
     "name": "stdout",
     "output_type": "stream",
     "text": [
      "Nomes: 1849 IDs: 1861\n"
     ]
    },
    {
     "data": {
      "text/html": [
       "<div>\n",
       "<style scoped>\n",
       "    .dataframe tbody tr th:only-of-type {\n",
       "        vertical-align: middle;\n",
       "    }\n",
       "\n",
       "    .dataframe tbody tr th {\n",
       "        vertical-align: top;\n",
       "    }\n",
       "\n",
       "    .dataframe thead th {\n",
       "        text-align: right;\n",
       "    }\n",
       "</style>\n",
       "<table border=\"1\" class=\"dataframe\">\n",
       "  <thead>\n",
       "    <tr style=\"text-align: right;\">\n",
       "      <th></th>\n",
       "      <th>Product Name</th>\n",
       "      <th>Product ID</th>\n",
       "    </tr>\n",
       "  </thead>\n",
       "  <tbody>\n",
       "    <tr>\n",
       "      <th>1989</th>\n",
       "      <td>#10- 4 1/8\" x 9 1/2\" Recycled Envelopes</td>\n",
       "      <td>OFF-EN-10000781</td>\n",
       "    </tr>\n",
       "    <tr>\n",
       "      <th>2531</th>\n",
       "      <td>Avery Non-Stick Binders</td>\n",
       "      <td>OFF-BI-10000829</td>\n",
       "    </tr>\n",
       "    <tr>\n",
       "      <th>283</th>\n",
       "      <td>Easy-staple paper</td>\n",
       "      <td>OFF-PA-10000474</td>\n",
       "    </tr>\n",
       "    <tr>\n",
       "      <th>1225</th>\n",
       "      <td>Easy-staple paper</td>\n",
       "      <td>OFF-PA-10001685</td>\n",
       "    </tr>\n",
       "    <tr>\n",
       "      <th>1747</th>\n",
       "      <td>Easy-staple paper</td>\n",
       "      <td>OFF-PA-10004947</td>\n",
       "    </tr>\n",
       "  </tbody>\n",
       "</table>\n",
       "</div>"
      ],
      "text/plain": [
       "                                 Product Name       Product ID\n",
       "1989  #10- 4 1/8\" x 9 1/2\" Recycled Envelopes  OFF-EN-10000781\n",
       "2531                  Avery Non-Stick Binders  OFF-BI-10000829\n",
       "283                         Easy-staple paper  OFF-PA-10000474\n",
       "1225                        Easy-staple paper  OFF-PA-10001685\n",
       "1747                        Easy-staple paper  OFF-PA-10004947"
      ]
     },
     "execution_count": 6,
     "metadata": {},
     "output_type": "execute_result"
    }
   ],
   "source": [
    "print('Nomes:',len(df_un['Product Name'].unique()), 'IDs:', len(df_un['Product ID'].unique()))\n",
    "\n",
    "df_un[['Product Name', 'Product ID']].drop_duplicates().sort_values('Product Name')[df_un['Product Name'].duplicated() == True].head()"
   ]
  },
  {
   "cell_type": "code",
   "execution_count": 7,
   "id": "2e52481b",
   "metadata": {},
   "outputs": [
    {
     "name": "stdout",
     "output_type": "stream",
     "text": [
      "Nomes: 1849 IDs: 1817\n"
     ]
    },
    {
     "data": {
      "text/html": [
       "<div>\n",
       "<style scoped>\n",
       "    .dataframe tbody tr th:only-of-type {\n",
       "        vertical-align: middle;\n",
       "    }\n",
       "\n",
       "    .dataframe tbody tr th {\n",
       "        vertical-align: top;\n",
       "    }\n",
       "\n",
       "    .dataframe thead th {\n",
       "        text-align: right;\n",
       "    }\n",
       "</style>\n",
       "<table border=\"1\" class=\"dataframe\">\n",
       "  <thead>\n",
       "    <tr style=\"text-align: right;\">\n",
       "      <th></th>\n",
       "      <th>Product Name</th>\n",
       "      <th>Product ID</th>\n",
       "    </tr>\n",
       "  </thead>\n",
       "  <tbody>\n",
       "    <tr>\n",
       "      <th>1708</th>\n",
       "      <td>\"While you Were Out\" Message Book, One Form pe...</td>\n",
       "      <td>OFF-PA-10003424</td>\n",
       "    </tr>\n",
       "    <tr>\n",
       "      <th>355</th>\n",
       "      <td>#10 Gummed Flap White Envelopes, 100/Box</td>\n",
       "      <td>OFF-EN-10001137</td>\n",
       "    </tr>\n",
       "    <tr>\n",
       "      <th>3042</th>\n",
       "      <td>#10 Self-Seal White Envelopes</td>\n",
       "      <td>OFF-EN-10002312</td>\n",
       "    </tr>\n",
       "    <tr>\n",
       "      <th>2499</th>\n",
       "      <td>#10 White Business Envelopes,4 1/8 x 9 1/2</td>\n",
       "      <td>OFF-EN-10004483</td>\n",
       "    </tr>\n",
       "    <tr>\n",
       "      <th>985</th>\n",
       "      <td>#10- 4 1/8\" x 9 1/2\" Recycled Envelopes</td>\n",
       "      <td>OFF-EN-10000461</td>\n",
       "    </tr>\n",
       "    <tr>\n",
       "      <th>...</th>\n",
       "      <td>...</td>\n",
       "      <td>...</td>\n",
       "    </tr>\n",
       "    <tr>\n",
       "      <th>1502</th>\n",
       "      <td>iKross Bluetooth Portable Keyboard + Cell Phon...</td>\n",
       "      <td>TEC-PH-10001300</td>\n",
       "    </tr>\n",
       "    <tr>\n",
       "      <th>5307</th>\n",
       "      <td>iOttie HLCRIO102 Car Mount</td>\n",
       "      <td>TEC-PH-10002583</td>\n",
       "    </tr>\n",
       "    <tr>\n",
       "      <th>6235</th>\n",
       "      <td>iOttie XL Car Mount</td>\n",
       "      <td>TEC-PH-10000127</td>\n",
       "    </tr>\n",
       "    <tr>\n",
       "      <th>1110</th>\n",
       "      <td>invisibleSHIELD by ZAGG Smudge-Free Screen Pro...</td>\n",
       "      <td>TEC-PH-10003589</td>\n",
       "    </tr>\n",
       "    <tr>\n",
       "      <th>68</th>\n",
       "      <td>netTALK DUO VoIP Telephone Service</td>\n",
       "      <td>TEC-PH-10002726</td>\n",
       "    </tr>\n",
       "  </tbody>\n",
       "</table>\n",
       "<p>1849 rows × 2 columns</p>\n",
       "</div>"
      ],
      "text/plain": [
       "                                           Product Name       Product ID\n",
       "1708  \"While you Were Out\" Message Book, One Form pe...  OFF-PA-10003424\n",
       "355            #10 Gummed Flap White Envelopes, 100/Box  OFF-EN-10001137\n",
       "3042                      #10 Self-Seal White Envelopes  OFF-EN-10002312\n",
       "2499         #10 White Business Envelopes,4 1/8 x 9 1/2  OFF-EN-10004483\n",
       "985             #10- 4 1/8\" x 9 1/2\" Recycled Envelopes  OFF-EN-10000461\n",
       "...                                                 ...              ...\n",
       "1502  iKross Bluetooth Portable Keyboard + Cell Phon...  TEC-PH-10001300\n",
       "5307                         iOttie HLCRIO102 Car Mount  TEC-PH-10002583\n",
       "6235                                iOttie XL Car Mount  TEC-PH-10000127\n",
       "1110  invisibleSHIELD by ZAGG Smudge-Free Screen Pro...  TEC-PH-10003589\n",
       "68                   netTALK DUO VoIP Telephone Service  TEC-PH-10002726\n",
       "\n",
       "[1849 rows x 2 columns]"
      ]
     },
     "execution_count": 7,
     "metadata": {},
     "output_type": "execute_result"
    }
   ],
   "source": [
    "# Alterando o ID para o primeiro ID encontrado para o nome em questão:\n",
    "df_un['Product ID'] = df_un['Product Name'].apply(lambda x: df_un[df_un['Product Name'] == x]['Product ID'].iloc[0])\n",
    "\n",
    "print('Nomes:',len(df_un['Product Name'].unique()), 'IDs:', len(df_un['Product ID'].unique()))\n",
    "\n",
    "df_un[['Product Name', 'Product ID']].drop_duplicates().sort_values('Product Name')[df_un['Product Name'].duplicated() == False]"
   ]
  },
  {
   "cell_type": "code",
   "execution_count": 8,
   "id": "75bab83f",
   "metadata": {},
   "outputs": [
    {
     "name": "stdout",
     "output_type": "stream",
     "text": [
      "Nomes: 1817 IDs: 1817\n"
     ]
    }
   ],
   "source": [
    "df_un['Product Name'] = df_un['Product ID'].apply(lambda x: df_un[df_un['Product ID'] == x]['Product Name'].iloc[0])\n",
    "\n",
    "print('Nomes:',len(df_un['Product Name'].unique()), 'IDs:', len(df_un['Product ID'].unique()))"
   ]
  },
  {
   "cell_type": "markdown",
   "id": "d392ca96",
   "metadata": {},
   "source": [
    "O número de produtos é relativamente grande em comparação ao número de registros.<br>\n",
    "Como essa proporção pode atrapalhar os resultados, os produtos serão melhor avaliados para ver se há possibilidade de diminuir esse número total de produtos."
   ]
  },
  {
   "cell_type": "code",
   "execution_count": 9,
   "id": "953c8d7e",
   "metadata": {},
   "outputs": [],
   "source": [
    "# Criando o dataframe com códigos únicos:\n",
    "df_item = pd.DataFrame(columns=['prod_id', 'prod_name', 'category', 'sub_category', 'number'])\n",
    "df_item['prod_name'] = df_un[['Product Name', 'Product ID']].drop_duplicates().sort_values('Product Name')[df_un['Product Name'].duplicated() == False]['Product Name']\n",
    "df_item['prod_id'] = df_un[['Product Name', 'Product ID']].drop_duplicates().sort_values('Product Name')[df_un['Product Name'].duplicated() == False]['Product ID']\n",
    "df_item.reset_index(inplace=True, drop=True)\n",
    "\n",
    "# Dividindo o código do produto:\n",
    "for n in range(len(df_item)):\n",
    "    df_item['category'][n] = df_item['prod_id'][n].split('-')[0]\n",
    "    df_item['sub_category'][n] = df_item['prod_id'][n].split('-')[1]\n",
    "    df_item['number'][n] = df_item['prod_id'][n].split('-')[2]"
   ]
  },
  {
   "cell_type": "code",
   "execution_count": 10,
   "id": "5d10fbc7",
   "metadata": {},
   "outputs": [
    {
     "data": {
      "text/html": [
       "<div>\n",
       "<style scoped>\n",
       "    .dataframe tbody tr th:only-of-type {\n",
       "        vertical-align: middle;\n",
       "    }\n",
       "\n",
       "    .dataframe tbody tr th {\n",
       "        vertical-align: top;\n",
       "    }\n",
       "\n",
       "    .dataframe thead th {\n",
       "        text-align: right;\n",
       "    }\n",
       "</style>\n",
       "<table border=\"1\" class=\"dataframe\">\n",
       "  <thead>\n",
       "    <tr style=\"text-align: right;\">\n",
       "      <th></th>\n",
       "      <th>prod_id</th>\n",
       "      <th>prod_name</th>\n",
       "      <th>category</th>\n",
       "      <th>sub_category</th>\n",
       "      <th>number</th>\n",
       "    </tr>\n",
       "  </thead>\n",
       "  <tbody>\n",
       "    <tr>\n",
       "      <th>0</th>\n",
       "      <td>OFF-PA-10003424</td>\n",
       "      <td>\"While you Were Out\" Message Book, One Form pe...</td>\n",
       "      <td>OFF</td>\n",
       "      <td>PA</td>\n",
       "      <td>10003424</td>\n",
       "    </tr>\n",
       "    <tr>\n",
       "      <th>1</th>\n",
       "      <td>OFF-EN-10001137</td>\n",
       "      <td>#10 Gummed Flap White Envelopes, 100/Box</td>\n",
       "      <td>OFF</td>\n",
       "      <td>EN</td>\n",
       "      <td>10001137</td>\n",
       "    </tr>\n",
       "    <tr>\n",
       "      <th>2</th>\n",
       "      <td>OFF-EN-10002312</td>\n",
       "      <td>#10 Self-Seal White Envelopes</td>\n",
       "      <td>OFF</td>\n",
       "      <td>EN</td>\n",
       "      <td>10002312</td>\n",
       "    </tr>\n",
       "    <tr>\n",
       "      <th>3</th>\n",
       "      <td>OFF-EN-10004483</td>\n",
       "      <td>#10 White Business Envelopes,4 1/8 x 9 1/2</td>\n",
       "      <td>OFF</td>\n",
       "      <td>EN</td>\n",
       "      <td>10004483</td>\n",
       "    </tr>\n",
       "    <tr>\n",
       "      <th>4</th>\n",
       "      <td>OFF-EN-10000461</td>\n",
       "      <td>#10- 4 1/8\" x 9 1/2\" Recycled Envelopes</td>\n",
       "      <td>OFF</td>\n",
       "      <td>EN</td>\n",
       "      <td>10000461</td>\n",
       "    </tr>\n",
       "  </tbody>\n",
       "</table>\n",
       "</div>"
      ],
      "text/plain": [
       "           prod_id                                          prod_name  \\\n",
       "0  OFF-PA-10003424  \"While you Were Out\" Message Book, One Form pe...   \n",
       "1  OFF-EN-10001137           #10 Gummed Flap White Envelopes, 100/Box   \n",
       "2  OFF-EN-10002312                      #10 Self-Seal White Envelopes   \n",
       "3  OFF-EN-10004483         #10 White Business Envelopes,4 1/8 x 9 1/2   \n",
       "4  OFF-EN-10000461            #10- 4 1/8\" x 9 1/2\" Recycled Envelopes   \n",
       "\n",
       "  category sub_category    number  \n",
       "0      OFF           PA  10003424  \n",
       "1      OFF           EN  10001137  \n",
       "2      OFF           EN  10002312  \n",
       "3      OFF           EN  10004483  \n",
       "4      OFF           EN  10000461  "
      ]
     },
     "execution_count": 10,
     "metadata": {},
     "output_type": "execute_result"
    }
   ],
   "source": [
    "df_item.sort_values('prod_name').head()"
   ]
  },
  {
   "cell_type": "code",
   "execution_count": 11,
   "id": "59f51002",
   "metadata": {},
   "outputs": [
    {
     "data": {
      "text/plain": [
       "Consumer       5101\n",
       "Corporate      2953\n",
       "Home Office    1746\n",
       "Name: Segment, dtype: int64"
      ]
     },
     "execution_count": 11,
     "metadata": {},
     "output_type": "execute_result"
    }
   ],
   "source": [
    "# Vendas por tipo de cliente:\n",
    "df_un.Segment.value_counts()"
   ]
  },
  {
   "cell_type": "code",
   "execution_count": 12,
   "id": "6318b8fa",
   "metadata": {},
   "outputs": [],
   "source": [
    "# Salvando o novo dataframe para utilizar na aplicação:\n",
    "df_un[['Order ID', 'Order Date', 'Segment', 'State', 'City', \n",
    "       'Product Name', 'Category', 'Sub-Category', 'Sales']].to_csv('../data/vendas.csv')"
   ]
  },
  {
   "cell_type": "markdown",
   "id": "3a9e4799",
   "metadata": {},
   "source": [
    "#### Aplicando TransactionEncoder () e o algoritmo apriori para quantificar as associações:"
   ]
  },
  {
   "cell_type": "code",
   "execution_count": 13,
   "id": "4c40970d",
   "metadata": {},
   "outputs": [],
   "source": [
    "# Gerando uma lista de listas para utilizar o encoder:\n",
    "dataset = []\n",
    "uniques = df_un['Customer ID'].unique()\n",
    "for n in uniques:\n",
    "    dataset.append(df_un[df_un['Customer ID'] == n]['Product Name'].to_list())"
   ]
  },
  {
   "cell_type": "code",
   "execution_count": 14,
   "id": "0b369654",
   "metadata": {},
   "outputs": [],
   "source": [
    "enc = TransactionEncoder()\n",
    "\n",
    "enc_dataset = enc.fit(dataset).transform(dataset, sparse=True)\n",
    "\n",
    "mba_df = pd.DataFrame.sparse.from_spmatrix(enc_dataset, columns=enc.columns_)"
   ]
  },
  {
   "cell_type": "code",
   "execution_count": 15,
   "id": "69ece3a4",
   "metadata": {},
   "outputs": [
    {
     "name": "stdout",
     "output_type": "stream",
     "text": [
      "shape: (3677, 3)\n"
     ]
    },
    {
     "data": {
      "text/html": [
       "<div>\n",
       "<style scoped>\n",
       "    .dataframe tbody tr th:only-of-type {\n",
       "        vertical-align: middle;\n",
       "    }\n",
       "\n",
       "    .dataframe tbody tr th {\n",
       "        vertical-align: top;\n",
       "    }\n",
       "\n",
       "    .dataframe thead th {\n",
       "        text-align: right;\n",
       "    }\n",
       "</style>\n",
       "<table border=\"1\" class=\"dataframe\">\n",
       "  <thead>\n",
       "    <tr style=\"text-align: right;\">\n",
       "      <th></th>\n",
       "      <th>support</th>\n",
       "      <th>itemsets</th>\n",
       "      <th>Len</th>\n",
       "    </tr>\n",
       "  </thead>\n",
       "  <tbody>\n",
       "    <tr>\n",
       "      <th>1397</th>\n",
       "      <td>0.055485</td>\n",
       "      <td>(Staple envelope)</td>\n",
       "      <td>1</td>\n",
       "    </tr>\n",
       "    <tr>\n",
       "      <th>504</th>\n",
       "      <td>0.055485</td>\n",
       "      <td>(Easy-staple paper)</td>\n",
       "      <td>1</td>\n",
       "    </tr>\n",
       "    <tr>\n",
       "      <th>1403</th>\n",
       "      <td>0.054224</td>\n",
       "      <td>(Staples)</td>\n",
       "      <td>1</td>\n",
       "    </tr>\n",
       "  </tbody>\n",
       "</table>\n",
       "</div>"
      ],
      "text/plain": [
       "       support             itemsets  Len\n",
       "1397  0.055485    (Staple envelope)    1\n",
       "504   0.055485  (Easy-staple paper)    1\n",
       "1403  0.054224            (Staples)    1"
      ]
     },
     "execution_count": 15,
     "metadata": {},
     "output_type": "execute_result"
    }
   ],
   "source": [
    "supp_df = apriori(mba_df, min_support=0.0015, use_colnames=True)\n",
    "supp_df['Len'] = supp_df.itemsets.apply(lambda x: len(x))\n",
    "\n",
    "supp_df.sort_values(['Len', 'support'], ascending=False).head(3)\n",
    "\n",
    "print('shape:', supp_df.shape)\n",
    "supp_df.sort_values('support', ascending=False).head(3)"
   ]
  },
  {
   "cell_type": "markdown",
   "id": "3dd0b327",
   "metadata": {},
   "source": [
    "O item 'Staple envelope' aparece nas compras de aproximadamente 60% dos clientes.\n",
    "\n",
    "Essa avaliação também poderia ter sido feita por transação/OrderID e avaliar quantas vezes um item aparece."
   ]
  },
  {
   "cell_type": "code",
   "execution_count": 16,
   "id": "cbe3730a",
   "metadata": {},
   "outputs": [],
   "source": [
    "df_rules = association_rules(supp_df, metric='lift', min_threshold=1).sort_values(\n",
    "    'lift', ascending=False).reset_index(drop=True)\n",
    "\n",
    "df_rules['ant_len'] = df_rules.antecedents.apply(lambda x: len(x))\n",
    "df_rules['con_len'] = df_rules.consequents.apply(lambda x: len(x))\n",
    "\n",
    "df_rules = df_rules[df_rules['ant_len'] == 1][df_rules['con_len'] == 1].reset_index(drop=True)"
   ]
  },
  {
   "cell_type": "code",
   "execution_count": 17,
   "id": "520e4d72",
   "metadata": {},
   "outputs": [
    {
     "data": {
      "text/html": [
       "<div>\n",
       "<style scoped>\n",
       "    .dataframe tbody tr th:only-of-type {\n",
       "        vertical-align: middle;\n",
       "    }\n",
       "\n",
       "    .dataframe tbody tr th {\n",
       "        vertical-align: top;\n",
       "    }\n",
       "\n",
       "    .dataframe thead th {\n",
       "        text-align: right;\n",
       "    }\n",
       "</style>\n",
       "<table border=\"1\" class=\"dataframe\">\n",
       "  <thead>\n",
       "    <tr style=\"text-align: right;\">\n",
       "      <th></th>\n",
       "      <th>antecedents</th>\n",
       "      <th>consequents</th>\n",
       "      <th>antecedent support</th>\n",
       "      <th>consequent support</th>\n",
       "      <th>support</th>\n",
       "      <th>confidence</th>\n",
       "      <th>lift</th>\n",
       "      <th>leverage</th>\n",
       "      <th>conviction</th>\n",
       "      <th>ant_len</th>\n",
       "      <th>con_len</th>\n",
       "    </tr>\n",
       "  </thead>\n",
       "  <tbody>\n",
       "    <tr>\n",
       "      <th>1098</th>\n",
       "      <td>(Eldon Shelf Savers Cubes and Bins)</td>\n",
       "      <td>(Safco Value Mate Series Steel Bookcases, Bake...</td>\n",
       "      <td>0.010088</td>\n",
       "      <td>0.007566</td>\n",
       "      <td>0.002522</td>\n",
       "      <td>0.25</td>\n",
       "      <td>33.041667</td>\n",
       "      <td>0.002446</td>\n",
       "      <td>1.323245</td>\n",
       "      <td>1</td>\n",
       "      <td>1</td>\n",
       "    </tr>\n",
       "    <tr>\n",
       "      <th>1515</th>\n",
       "      <td>(Eldon Shelf Savers Cubes and Bins)</td>\n",
       "      <td>(Poly Designer Cover &amp; Back)</td>\n",
       "      <td>0.010088</td>\n",
       "      <td>0.008827</td>\n",
       "      <td>0.002522</td>\n",
       "      <td>0.25</td>\n",
       "      <td>28.321429</td>\n",
       "      <td>0.002433</td>\n",
       "      <td>1.321564</td>\n",
       "      <td>1</td>\n",
       "      <td>1</td>\n",
       "    </tr>\n",
       "    <tr>\n",
       "      <th>2385</th>\n",
       "      <td>(Eldon Shelf Savers Cubes and Bins)</td>\n",
       "      <td>(Acco Pressboard Covers with Storage Hooks, 14...</td>\n",
       "      <td>0.010088</td>\n",
       "      <td>0.013871</td>\n",
       "      <td>0.002522</td>\n",
       "      <td>0.25</td>\n",
       "      <td>18.022727</td>\n",
       "      <td>0.002382</td>\n",
       "      <td>1.314838</td>\n",
       "      <td>1</td>\n",
       "      <td>1</td>\n",
       "    </tr>\n",
       "    <tr>\n",
       "      <th>2541</th>\n",
       "      <td>(Eldon Shelf Savers Cubes and Bins)</td>\n",
       "      <td>(Hon Deluxe Fabric Upholstered Stacking Chairs...</td>\n",
       "      <td>0.010088</td>\n",
       "      <td>0.015132</td>\n",
       "      <td>0.002522</td>\n",
       "      <td>0.25</td>\n",
       "      <td>16.520833</td>\n",
       "      <td>0.002369</td>\n",
       "      <td>1.313157</td>\n",
       "      <td>1</td>\n",
       "      <td>1</td>\n",
       "    </tr>\n",
       "  </tbody>\n",
       "</table>\n",
       "</div>"
      ],
      "text/plain": [
       "                              antecedents  \\\n",
       "1098  (Eldon Shelf Savers Cubes and Bins)   \n",
       "1515  (Eldon Shelf Savers Cubes and Bins)   \n",
       "2385  (Eldon Shelf Savers Cubes and Bins)   \n",
       "2541  (Eldon Shelf Savers Cubes and Bins)   \n",
       "\n",
       "                                            consequents  antecedent support  \\\n",
       "1098  (Safco Value Mate Series Steel Bookcases, Bake...            0.010088   \n",
       "1515                       (Poly Designer Cover & Back)            0.010088   \n",
       "2385  (Acco Pressboard Covers with Storage Hooks, 14...            0.010088   \n",
       "2541  (Hon Deluxe Fabric Upholstered Stacking Chairs...            0.010088   \n",
       "\n",
       "      consequent support   support  confidence       lift  leverage  \\\n",
       "1098            0.007566  0.002522        0.25  33.041667  0.002446   \n",
       "1515            0.008827  0.002522        0.25  28.321429  0.002433   \n",
       "2385            0.013871  0.002522        0.25  18.022727  0.002382   \n",
       "2541            0.015132  0.002522        0.25  16.520833  0.002369   \n",
       "\n",
       "      conviction  ant_len  con_len  \n",
       "1098    1.323245        1        1  \n",
       "1515    1.321564        1        1  \n",
       "2385    1.314838        1        1  \n",
       "2541    1.313157        1        1  "
      ]
     },
     "execution_count": 17,
     "metadata": {},
     "output_type": "execute_result"
    }
   ],
   "source": [
    "produto = frozenset({df_un['Product Name'].sample(1).to_list()[0]})\n",
    "\n",
    "df_rules.sort_values(['antecedents', 'conviction'], ascending=False)[df_rules.antecedents == produto].head()"
   ]
  },
  {
   "cell_type": "markdown",
   "id": "a5b62bd3",
   "metadata": {},
   "source": [
    "Apesar de muitos produtos serem similares, cada nome é único e o retorno para esse volume de dados fica prejudicado por conta do excesso de produtos diferentes.\n",
    "\n",
    "Algumas opções são:<br>\n",
    "+ Dividir os dataframes por segmento de cliente;\n",
    "+ Fazer as associações por sub-categoria e recomendar os 5 mais vendidos na mesma categoria e na categoria consequente;\n",
    "+ Fazer as associações por sub-categoria e recomendar 5 produtos aleatórios na mesma categoria e na categoria consequente."
   ]
  },
  {
   "cell_type": "markdown",
   "id": "5766588b",
   "metadata": {},
   "source": [
    "#### Para a aplicação a ser desenvolvida a associação será feita com base no tipo de cliente e no produto. Após essa associação, o retorno será os 5 produtos relacionados e os 5 mais vendidos na mesma categoria."
   ]
  },
  {
   "cell_type": "markdown",
   "id": "c57683ef",
   "metadata": {},
   "source": [
    "Calculando o support e fazendo as associações para gerar os dataframes por tipo de cliente:"
   ]
  },
  {
   "cell_type": "code",
   "execution_count": 18,
   "id": "17f36183",
   "metadata": {},
   "outputs": [],
   "source": [
    "# Segmentos e min_support:\n",
    "supports = {'Home Office': 0.0075, 'Corporate': 0.0045, 'Consumer': 0.0025}\n",
    "\n",
    "# Em caso de falha no kernel, basta aumentar os valores de min_support, pois o método gera um array maior\n",
    "# quanto menor o valor.\n",
    "\n",
    "for n in supports.keys():\n",
    "    df_cat = df_un[df_un.Segment == n]\n",
    "    \n",
    "    # Gerando uma lista de listas para utilizar o encoder:\n",
    "    dataset = []\n",
    "    uniques = df_cat['Customer ID'].unique() \n",
    "    for m in uniques:\n",
    "        dataset.append(df_cat[df_cat['Customer ID'] == m]['Product Name'].to_list())\n",
    "\n",
    "    # Aplicando a transformação dos dados:\n",
    "    enc = TransactionEncoder()\n",
    "    enc_dataset = enc.fit(dataset).transform(dataset, sparse=True)\n",
    "    mba_df = pd.DataFrame.sparse.from_spmatrix(enc_dataset, columns=enc.columns_)\n",
    "\n",
    "    # Calculando os suportes:\n",
    "    supp_df = apriori(mba_df, min_support=supports[n], use_colnames=True)\n",
    "    supp_df['Len'] = supp_df.itemsets.apply(lambda x: len(x))\n",
    "    \n",
    "    # Buscando as associações:\n",
    "    df_rules = association_rules(supp_df, metric='lift', min_threshold=1).sort_values(\n",
    "        'lift', ascending=False).reset_index(drop=True)\n",
    "    df_rules['ant_len'] = df_rules.antecedents.apply(lambda x: len(x))\n",
    "    df_rules['con_len'] = df_rules.consequents.apply(lambda x: len(x))\n",
    "    df_rules = df_rules[df_rules['ant_len'] == 1][df_rules['con_len'] == 1].reset_index(drop=True)\n",
    "    \n",
    "    # Alterando o dataframe para salvar apenas os dados necessários:\n",
    "    associacoes = df_rules[['antecedents', 'consequents', 'conviction']].sort_values(\n",
    "        ['antecedents', 'conviction'], ascending=False)\n",
    "\n",
    "    associacoes['antecedents'] = associacoes['antecedents'].apply(lambda x: list(x)[0])\n",
    "    associacoes['consequents'] = associacoes['consequents'].apply(lambda x: list(x)[0])\n",
    "    \n",
    "    # Salvando o dataframe de associacoes por tipo de cliente:\n",
    "    file_name = n.lower().replace(' ', '_') + '_associacoes'\n",
    "    associacoes.to_csv(f'./../data/{file_name}.csv')"
   ]
  },
  {
   "cell_type": "markdown",
   "id": "5ad63b6e",
   "metadata": {},
   "source": [
    "Gerando os dataframes com os itens mais vendidos por sub-categoria, porém apenas os itens que possuem pelo menos uma associação consequente:"
   ]
  },
  {
   "cell_type": "code",
   "execution_count": 19,
   "id": "aa725113",
   "metadata": {},
   "outputs": [],
   "source": [
    "for n in df_un.Segment.unique():\n",
    "    df_cat = df_un[df_un.Segment == n]\n",
    "    n_orders = len(df_un['Order ID'].unique())\n",
    "    df_sales = pd.DataFrame(columns=['Product Name', 'Sub-Category', 'Frequency'])\n",
    "    df_sales['Product Name'] = df_cat['Product Name'].unique()\n",
    "\n",
    "    df_sales['Frequency'] = df_sales['Product Name'].apply(\n",
    "        lambda x: df_cat['Product Name'].value_counts()[x]/n_orders)\n",
    "    df_sales['Sub-Category'] = df_sales['Product Name'].apply(\n",
    "        lambda x: df_cat[df_cat['Product Name'] == x]['Sub-Category'].iloc[0])\n",
    "    \n",
    "    assocs_name = n.lower().replace(' ', '_') + '_associacoes'\n",
    "    assocs = pd.read_csv(f'./../data/{assocs_name}.csv', index_col=0)\n",
    "    \n",
    "    df_sales = df_sales[df_sales['Product Name'].isin(assocs.antecedents.unique())].reset_index(drop=True)\n",
    "    \n",
    "    file_name = n.lower().replace(' ', '_') + '_prop_vendas'\n",
    "    df_sales.sort_values(['Sub-Category', 'Frequency'], ascending=False).to_csv(f'./../data/{file_name}.csv')"
   ]
  },
  {
   "cell_type": "markdown",
   "id": "9bd35be8",
   "metadata": {},
   "source": [
    "#### Criando função para fazer a análise a partir do produto selecionado:"
   ]
  },
  {
   "cell_type": "markdown",
   "id": "8660c107",
   "metadata": {},
   "source": [
    "Para a função utilizada na aplicação será feita a recomendação de até 5 consequentes com maior valor de 'conviction' e os 5 mais vendidos para a sub-categoria do produto escolhido."
   ]
  },
  {
   "cell_type": "code",
   "execution_count": 20,
   "id": "e6f1e5a9",
   "metadata": {},
   "outputs": [],
   "source": [
    "def indicados(segmento, produto, associacoes, prop_vendas):\n",
    "    categoria = prop_vendas[prop_vendas['Product Name'] == produto]['Sub-Category'].iloc[0]\n",
    "    \n",
    "    vendidos = prop_vendas[prop_vendas['Sub-Category'] == categoria][\n",
    "        prop_vendas['Product Name'] != produto]['Product Name'].to_list()\n",
    "\n",
    "    recomendados = associacoes[associacoes.antecedents == produto]['consequents'].to_list()\n",
    "\n",
    "    diff = len(vendidos) - len(recomendados)\n",
    "    if diff > 0:\n",
    "        [recomendados.append('Sem mais recomendações') for n in range(diff)]\n",
    "    elif diff < 0:\n",
    "        [vendidos.append('Sem mais recomendações') for n in range(-diff)]\n",
    "    else:\n",
    "        pass\n",
    "\n",
    "    df = pd.DataFrame({'Quem comprou esse produto também comprou': recomendados, \n",
    "                   'Você também pode gostar de': vendidos})\n",
    "    \n",
    "    return df.head(5)"
   ]
  },
  {
   "cell_type": "code",
   "execution_count": 21,
   "id": "a2937705",
   "metadata": {},
   "outputs": [
    {
     "data": {
      "text/html": [
       "<div>\n",
       "<style scoped>\n",
       "    .dataframe tbody tr th:only-of-type {\n",
       "        vertical-align: middle;\n",
       "    }\n",
       "\n",
       "    .dataframe tbody tr th {\n",
       "        vertical-align: top;\n",
       "    }\n",
       "\n",
       "    .dataframe thead th {\n",
       "        text-align: right;\n",
       "    }\n",
       "</style>\n",
       "<table border=\"1\" class=\"dataframe\">\n",
       "  <thead>\n",
       "    <tr style=\"text-align: right;\">\n",
       "      <th></th>\n",
       "      <th>Quem comprou esse produto também comprou</th>\n",
       "      <th>Você também pode gostar de</th>\n",
       "    </tr>\n",
       "  </thead>\n",
       "  <tbody>\n",
       "    <tr>\n",
       "      <th>0</th>\n",
       "      <td>GBC Twin Loop Wire Binding Elements, 9/16\" Spi...</td>\n",
       "      <td>DMI Eclipse Executive Suite Bookcases</td>\n",
       "    </tr>\n",
       "    <tr>\n",
       "      <th>1</th>\n",
       "      <td>Sem mais recomendações</td>\n",
       "      <td>Sauder Camden County Collection Libraries, Pla...</td>\n",
       "    </tr>\n",
       "    <tr>\n",
       "      <th>2</th>\n",
       "      <td>Sem mais recomendações</td>\n",
       "      <td>O'Sullivan Living Dimensions 2-Shelf Bookcases</td>\n",
       "    </tr>\n",
       "    <tr>\n",
       "      <th>3</th>\n",
       "      <td>Sem mais recomendações</td>\n",
       "      <td>O'Sullivan Living Dimensions 5-Shelf Bookcases</td>\n",
       "    </tr>\n",
       "    <tr>\n",
       "      <th>4</th>\n",
       "      <td>Sem mais recomendações</td>\n",
       "      <td>Safco Value Mate Series Steel Bookcases, Baked...</td>\n",
       "    </tr>\n",
       "  </tbody>\n",
       "</table>\n",
       "</div>"
      ],
      "text/plain": [
       "            Quem comprou esse produto também comprou  \\\n",
       "0  GBC Twin Loop Wire Binding Elements, 9/16\" Spi...   \n",
       "1                             Sem mais recomendações   \n",
       "2                             Sem mais recomendações   \n",
       "3                             Sem mais recomendações   \n",
       "4                             Sem mais recomendações   \n",
       "\n",
       "                          Você também pode gostar de  \n",
       "0              DMI Eclipse Executive Suite Bookcases  \n",
       "1  Sauder Camden County Collection Libraries, Pla...  \n",
       "2     O'Sullivan Living Dimensions 2-Shelf Bookcases  \n",
       "3     O'Sullivan Living Dimensions 5-Shelf Bookcases  \n",
       "4  Safco Value Mate Series Steel Bookcases, Baked...  "
      ]
     },
     "execution_count": 21,
     "metadata": {},
     "output_type": "execute_result"
    }
   ],
   "source": [
    "# Testando o processo:\n",
    "seg = np.random.choice(['Home Office', 'Corporate', 'Consumer'])\n",
    "associacao_csv = seg.lower().replace(' ', '_') + '_associacoes'\n",
    "prop_vendas_csv = seg.lower().replace(' ', '_') + '_prop_vendas'\n",
    "\n",
    "associacoes = pd.read_csv(f'./../data/{associacao_csv}.csv', index_col=0)\n",
    "prop_vendas = pd.read_csv(f'./../data/{prop_vendas_csv}.csv', index_col=0)\n",
    "\n",
    "produto = np.random.choice(prop_vendas['Product Name'].unique())\n",
    "\n",
    "indicados(seg, produto, associacoes, prop_vendas)"
   ]
  },
  {
   "cell_type": "code",
   "execution_count": 22,
   "id": "f9a2d71e",
   "metadata": {},
   "outputs": [
    {
     "data": {
      "text/plain": [
       "'Tempo de execução: 00:00:38'"
      ]
     },
     "execution_count": 22,
     "metadata": {},
     "output_type": "execute_result"
    }
   ],
   "source": [
    "f'Tempo de execução: {strftime(\"%H:%M:%S\", gmtime(time()-global_start))}'"
   ]
  },
  {
   "cell_type": "markdown",
   "id": "577eba54",
   "metadata": {},
   "source": [
    "### Fim."
   ]
  }
 ],
 "metadata": {
  "kernelspec": {
   "display_name": "Python 3 (ipykernel)",
   "language": "python",
   "name": "python3"
  },
  "language_info": {
   "codemirror_mode": {
    "name": "ipython",
    "version": 3
   },
   "file_extension": ".py",
   "mimetype": "text/x-python",
   "name": "python",
   "nbconvert_exporter": "python",
   "pygments_lexer": "ipython3",
   "version": "3.9.7"
  }
 },
 "nbformat": 4,
 "nbformat_minor": 5
}
